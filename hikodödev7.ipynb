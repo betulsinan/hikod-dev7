{
 "cells": [
  {
   "cell_type": "code",
   "execution_count": 16,
   "id": "310a3c6f-9d01-477b-9816-4488d8ce0ead",
   "metadata": {},
   "outputs": [],
   "source": [
    "import pandas as pd"
   ]
  },
  {
   "cell_type": "code",
   "execution_count": 38,
   "id": "57c0ba9a-660e-4e17-b400-40adb2196d5e",
   "metadata": {},
   "outputs": [],
   "source": [
    "sozluk = {\"kategori\": [\"giyim\",\"giyim\",\"ayakkabı\",\"aksesuar\",\"ayakkabı\",\"giyim\",\"aksesuar\",\"aksesuar\",\"ayakkabı\",\"giyim\"], \n",
    "          \"ürün\": [\"kazak\",\"t-shirt\",\"sandalet\",\"küpe\",\"spor ayakkabı\",\"pantalon\",\"kolye\",\"yüzük\",\"çizme\",\"ceket\"], \n",
    "          \"fiyat\": [300,180,450,50,700,400,150,80,850,900] }"
   ]
  },
  {
   "cell_type": "code",
   "execution_count": 40,
   "id": "0d0945f4-9893-40a9-8999-8df3fc31c873",
   "metadata": {},
   "outputs": [
    {
     "name": "stdout",
     "output_type": "stream",
     "text": [
      "DataFrame:\n",
      "    kategori           ürün  fiyat\n",
      "0     giyim          kazak    300\n",
      "1     giyim        t-shirt    180\n",
      "2  ayakkabı       sandalet    450\n",
      "3  aksesuar           küpe     50\n",
      "4  ayakkabı  spor ayakkabı    700\n",
      "5     giyim       pantalon    400\n",
      "6  aksesuar          kolye    150\n",
      "7  aksesuar          yüzük     80\n",
      "8  ayakkabı          çizme    850\n",
      "9     giyim          ceket    900\n"
     ]
    }
   ],
   "source": [
    "df = pd.DataFrame(sozluk)\n",
    "print(\"DataFrame:\\n\", df)"
   ]
  },
  {
   "cell_type": "code",
   "execution_count": 42,
   "id": "a90126fe-9b04-4f27-ae45-3d71a8ebf8e9",
   "metadata": {},
   "outputs": [
    {
     "name": "stdout",
     "output_type": "stream",
     "text": [
      "\n",
      "2. indeksteki kategori: ayakkabı\n"
     ]
    }
   ],
   "source": [
    "kategori_2 =df.loc[2,\"kategori\"]\n",
    "print(\"\\n2. indeksteki kategori:\", kategori_2)"
   ]
  },
  {
   "cell_type": "code",
   "execution_count": 44,
   "id": "0bb32220-5afa-41ee-a7bd-1248c9436612",
   "metadata": {},
   "outputs": [
    {
     "name": "stdout",
     "output_type": "stream",
     "text": [
      "2.indeksteki ürün: sandalet\n"
     ]
    }
   ],
   "source": [
    "urun_2 = df.loc[2,\"ürün\"]\n",
    "print(\"2.indeksteki ürün:\", urun_2)"
   ]
  },
  {
   "cell_type": "code",
   "execution_count": 46,
   "id": "7e519b6d-fd3d-4a7d-bfe4-76b8473ad699",
   "metadata": {},
   "outputs": [
    {
     "name": "stdout",
     "output_type": "stream",
     "text": [
      "\n",
      "4. indeksten 9. indekse kadar olan veriler:\n",
      "    kategori           ürün  fiyat\n",
      "4  ayakkabı  spor ayakkabı    700\n",
      "5     giyim       pantalon    400\n",
      "6  aksesuar          kolye    150\n",
      "7  aksesuar          yüzük     80\n",
      "8  ayakkabı          çizme    850\n",
      "9     giyim          ceket    900\n"
     ]
    }
   ],
   "source": [
    "veriler_4_9 = df.loc[4:9]\n",
    "print(\"\\n4. indeksten 9. indekse kadar olan veriler:\\n\", veriler_4_9)"
   ]
  },
  {
   "cell_type": "code",
   "execution_count": 50,
   "id": "d188e11c-0317-4b33-99f8-e566ebaa6455",
   "metadata": {},
   "outputs": [
    {
     "name": "stdout",
     "output_type": "stream",
     "text": [
      "\n",
      "1. indeksten 6.indekse kadar olan ürünler:\n",
      " 1          t-shirt\n",
      "2         sandalet\n",
      "3             küpe\n",
      "4    spor ayakkabı\n",
      "5         pantalon\n",
      "6            kolye\n",
      "Name: ürün, dtype: object\n"
     ]
    }
   ],
   "source": [
    "urunler_1_6 = df.loc[1:6, \"ürün\"]\n",
    "print(\"\\n1. indeksten 6.indekse kadar olan ürünler:\\n\", urunler_1_6)"
   ]
  },
  {
   "cell_type": "code",
   "execution_count": 54,
   "id": "2997dcac-af4b-47c4-a24d-1d949f6d6996",
   "metadata": {},
   "outputs": [
    {
     "name": "stdout",
     "output_type": "stream",
     "text": [
      "\n",
      "ayakkabı kategorisindeki ürünler:\n",
      "    kategori           ürün  fiyat\n",
      "2  ayakkabı       sandalet    450\n",
      "4  ayakkabı  spor ayakkabı    700\n",
      "8  ayakkabı          çizme    850\n"
     ]
    }
   ],
   "source": [
    "ayakkabı_urunleri = df[df[\"kategori\"] == \"ayakkabı\"]\n",
    "print(\"\\nayakkabı kategorisindeki ürünler:\\n\" , ayakkabı_urunleri)"
   ]
  },
  {
   "cell_type": "code",
   "execution_count": 56,
   "id": "70e229b2-ae48-49d1-8ec2-08514bf86107",
   "metadata": {},
   "outputs": [
    {
     "name": "stdout",
     "output_type": "stream",
     "text": [
      "\n",
      "giyim kategorisindeki ürünler:\n",
      "   kategori      ürün  fiyat\n",
      "0    giyim     kazak    300\n",
      "1    giyim   t-shirt    180\n",
      "5    giyim  pantalon    400\n",
      "9    giyim     ceket    900\n"
     ]
    }
   ],
   "source": [
    "giyim_urunleri = df[df[\"kategori\"]== \"giyim\"]\n",
    "print(\"\\ngiyim kategorisindeki ürünler:\\n\", giyim_urunleri)"
   ]
  },
  {
   "cell_type": "code",
   "execution_count": 58,
   "id": "81b356c0-de14-4788-8f57-732a757b07fd",
   "metadata": {},
   "outputs": [
    {
     "name": "stdout",
     "output_type": "stream",
     "text": [
      "\n",
      "aksesuar kategorisindeki ürünler:\n",
      "    kategori   ürün  fiyat\n",
      "3  aksesuar   küpe     50\n",
      "6  aksesuar  kolye    150\n",
      "7  aksesuar  yüzük     80\n"
     ]
    }
   ],
   "source": [
    "aksesuar_urunleri = df[df[\"kategori\"]==\"aksesuar\"]\n",
    "print(\"\\naksesuar kategorisindeki ürünler:\\n\", aksesuar_urunleri)"
   ]
  },
  {
   "cell_type": "code",
   "execution_count": 60,
   "id": "0893ff5b-3543-4bcf-ace1-48ca82701a20",
   "metadata": {},
   "outputs": [
    {
     "name": "stdout",
     "output_type": "stream",
     "text": [
      "\n",
      "giyim kategorisinde fiyatı 300den fazla olan ürünler:\n",
      "   kategori      ürün  fiyat\n",
      "5    giyim  pantalon    400\n",
      "9    giyim     ceket    900\n"
     ]
    }
   ],
   "source": [
    "giyim_fiyati_300_ustu = df[(df[\"kategori\"]== \"giyim\") & (df[\"fiyat\"] > 300)] \n",
    "print(\"\\ngiyim kategorisinde fiyatı 300den fazla olan ürünler:\\n\", giyim_fiyati_300_ustu) "
   ]
  },
  {
   "cell_type": "code",
   "execution_count": 64,
   "id": "6accdc6d-4df5-42cd-a509-392a70932933",
   "metadata": {},
   "outputs": [
    {
     "name": "stdout",
     "output_type": "stream",
     "text": [
      "\n",
      "aksesuar kategorisinde fiyatı 100den fazla olan ürünler:\n",
      "    kategori   ürün  fiyat\n",
      "6  aksesuar  kolye    150\n"
     ]
    }
   ],
   "source": [
    "aksesuar_fiyati_100_ustu = df[(df[\"kategori\"]== \"aksesuar\") & (df[\"fiyat\"] > 100)] \n",
    "print(\"\\naksesuar kategorisinde fiyatı 100den fazla olan ürünler:\\n\", aksesuar_fiyati_100_ustu) "
   ]
  },
  {
   "cell_type": "code",
   "execution_count": 62,
   "id": "6054396d-0816-4a63-b320-e3c67a9e9b15",
   "metadata": {},
   "outputs": [
    {
     "name": "stdout",
     "output_type": "stream",
     "text": [
      "\n",
      "ayakkabı kategorisinde fiyatı 600den az olan ürünler:\n",
      "    kategori      ürün  fiyat\n",
      "2  ayakkabı  sandalet    450\n"
     ]
    }
   ],
   "source": [
    "ayakkabi_fiyati_600_alti = df[(df[\"kategori\"]== \"ayakkabı\") & (df[\"fiyat\"] < 600)] \n",
    "print(\"\\nayakkabı kategorisinde fiyatı 600den az olan ürünler:\\n\", ayakkabi_fiyati_600_alti) "
   ]
  }
 ],
 "metadata": {
  "kernelspec": {
   "display_name": "Python 3 (ipykernel)",
   "language": "python",
   "name": "python3"
  },
  "language_info": {
   "codemirror_mode": {
    "name": "ipython",
    "version": 3
   },
   "file_extension": ".py",
   "mimetype": "text/x-python",
   "name": "python",
   "nbconvert_exporter": "python",
   "pygments_lexer": "ipython3",
   "version": "3.12.4"
  }
 },
 "nbformat": 4,
 "nbformat_minor": 5
}
